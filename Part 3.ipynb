{
 "cells": [
  {
   "cell_type": "markdown",
   "metadata": {},
   "source": [
    "# Practical Project 2 - Part 3\n",
    "\n",
    "#### Students:\n",
    "   - Bonifácio de Oliveira (bldof.eng16@uea.edu.br)\n",
    "   - Luiz Fábio (lfba.lic17@uea.edu.br)\n",
    "   - Luiz Felipe (lfda.lic17@uea.edu.br)\n",
    "   - Rafaela Melo (rmf.lic16@uea.edu.br)"
   ]
  },
  {
   "cell_type": "code",
   "execution_count": 34,
   "metadata": {},
   "outputs": [],
   "source": [
    "import numpy as np\n",
    "import pandas as pd\n",
    "import random\n",
    "from random import  uniform\n",
    "import statistics\n",
    "import matplotlib.pyplot as plt\n",
    "from matplotlib.pyplot import figure\n",
    "import seaborn as sn"
   ]
  },
  {
   "cell_type": "markdown",
   "metadata": {},
   "source": [
    "# Rosenblatt neuron class"
   ]
  },
  {
   "cell_type": "code",
   "execution_count": 45,
   "metadata": {},
   "outputs": [],
   "source": [
    "class Neuron:\n",
    "    \n",
    "    def __init__(self):\n",
    "        self.data = np.array([])\n",
    "        self.x_training = np.array([])\n",
    "        self.x_test = np.array([])\n",
    "        \n",
    "        self.load_data()\n",
    "        \n",
    "        self.weights = np.array([\n",
    "            uniform(-.5, .5),\n",
    "            uniform(-.5, .5),\n",
    "            uniform(-.5, .5)\n",
    "        ])\n",
    "        \n",
    "        self.teta = 0\n",
    "        self.ta   = 0.1\n",
    "        self.vies = -1\n",
    "        self.total_of_adjustments = []\n",
    "        self.epoch = 0\n",
    "        self.x1 = 0\n",
    "        self.x2 = 0\n",
    "        \n",
    "    def load_data_training_e_teste(self):\n",
    "        random.shuffle(self.data)\n",
    "\n",
    "        distribution = int(len(self.data)*0.7)\n",
    "\n",
    "        self.x_training = self.data[:distribution]\n",
    "        self.x_test  = self.data[distribution:]\n",
    "    \n",
    "    def load_data(self):\n",
    "        dataset = np.fromfile('dataHoldout.txt')\n",
    "        rows  = len(dataset)//3\n",
    "        columns = 3\n",
    "        self.data = dataset.reshape(rows, columns)\n",
    "        \n",
    "        self.load_data_training_e_teste()\n",
    "    \n",
    "    def show_graphic(self):\n",
    "        fig, ax = plt.subplots()\n",
    "        for i in self.data:\n",
    "            x = i[0]\n",
    "            y = i[1]\n",
    "            yd = int(i[2])\n",
    "            if(yd >= 1):\n",
    "                plt.scatter(x,y, color='r', s=8)\n",
    "            else:\n",
    "                plt.scatter(x,y, color='b', s=8)\n",
    "\n",
    "        point1 = [0,self.x1]\n",
    "        point2 = [self.x2,0]\n",
    "        x_values = [point1[0], point2[0]]\n",
    "        y_values = [point1[1], point2[1]]\n",
    "\n",
    "        ax.plot(x_values, y_values)\n",
    "        plt.show()\n",
    "        \n",
    "    def function_activation(self,num):\n",
    "        if (num>=self.teta):\n",
    "            return 1\n",
    "        else:\n",
    "            return 0\n",
    "        \n",
    "    def perceptron(self):\n",
    "        adjustment_number = 0\n",
    "        \n",
    "        #Embaralha os data\n",
    "        self.data = list(self.data)\n",
    "        random.shuffle(self.data)\n",
    "        self.data = np.array(self.data)\n",
    "        \n",
    "        #print(\"Scrambled data set: \\n\",self.data,\"\\n\")\n",
    "        \n",
    "        for i in self.data:\n",
    "            \n",
    "            entrada = np.concatenate((np.array([self.vies]), i[:2]))\n",
    "            yd = int(i[2:])\n",
    "            yr = round(entrada.dot(self.weights),4)\n",
    "            yr = self.function_activation(yr)\n",
    "            \n",
    "            adjustment_number += 1\n",
    "            #print(\"Dado: \",entrada[1:],\"\\n\")\n",
    "            self.weights = self.weight_adjustment(yd, yr, entrada)\n",
    "            \n",
    "            if(yr != yd):\n",
    "                self.total_of_adjustments.append(adjustment_number)\n",
    "                return False\n",
    "            \n",
    "        self.total_of_adjustments.append(adjustment_number)\n",
    "        return True\n",
    "\n",
    "    def weight_adjustment(self, yd, yr, entrada):\n",
    "        delta = self.ta * np.array(yd - yr).dot(entrada)\n",
    "        novos_weights = self.weights + delta\n",
    "        \n",
    "        return novos_weights\n",
    "    \n",
    "    def find_x1_x2(self):\n",
    "        w = self.weights\n",
    "        \n",
    "        w0_w2 = w[0]/w[2]\n",
    "        w1_w2 = w[1]/w[2]\n",
    "\n",
    "        self.x2 = w0_w2 - w1_w2 * 0\n",
    "        self.x1 = w0_w2/w1_w2\n",
    "    \n",
    "    def training(self):\n",
    "        self.epoch = 1\n",
    "        print(\"-----------------------------\\nEpoch: \",self.epoch,\"\\n\")\n",
    "        #100 epoch\n",
    "        while(self.epoch<100):\n",
    "            if(self.perceptron() == False):\n",
    "                self.epoch += 1\n",
    "                #print(\"-----------------------------\\nEpoch: \",self.epoch,\"\\n\")\n",
    "            else:\n",
    "                break\n",
    "            \n",
    "        self.find_x1_x2()\n",
    "\n",
    "        print(\"Total epoch: \",self.epoch)\n",
    "        print(\"Total adjustments made to weights: \",sum(self.total_of_adjustments))\n",
    "        \n",
    "n = Neuron()"
   ]
  },
  {
   "cell_type": "code",
   "execution_count": 46,
   "metadata": {
    "scrolled": true
   },
   "outputs": [
    {
     "data": {
      "image/png": "[encoded data removed]",
      "text/plain": [
       "<Figure size 432x288 with 1 Axes>"
      ]
     },
     "metadata": {
      "needs_background": "light"
     },
     "output_type": "display_data"
    }
   ],
   "source": [
    "n.show_graphic()"
   ]
  },
  {
   "cell_type": "code",
   "execution_count": 47,
   "metadata": {
    "scrolled": false
   },
   "outputs": [
    {
     "name": "stdout",
     "output_type": "stream",
     "text": [
      "-----------------------------\n",
      "Epoch:  1 \n",
      "\n",
      "Total epoch:  100\n",
      "Total adjustments made to weights:  1259\n"
     ]
    }
   ],
   "source": [
    "n.data = n.x_training\n",
    "n.training()"
   ]
  },
  {
   "cell_type": "code",
   "execution_count": null,
   "metadata": {},
   "outputs": [],
   "source": [
    "n.show_graphic()"
   ]
  },
  {
   "cell_type": "code",
   "execution_count": 39,
   "metadata": {},
   "outputs": [],
   "source": [
    "def prevision():\n",
    "    real = []\n",
    "    provided = []\n",
    "    hit_number = 0\n",
    "    error_number   = 0\n",
    "    for i in n.x_test:\n",
    "        input_value = np.concatenate((np.array([n.vies]), i[:2]))\n",
    "        \n",
    "        yd = int(i[2:])\n",
    "        yr = round(input_value.dot(n.weights),4)\n",
    "        yr = n.function_activation(yr)\n",
    "        \n",
    "        if(yr == yd):\n",
    "            hit_number+=1\n",
    "        else:\n",
    "            error_number+=1\n",
    "        \n",
    "        real.append(yd)\n",
    "        provided.append(yr)\n",
    "        \n",
    "    acc = hit_number/ (hit_number+error_number)\n",
    "    return hit_number, error_number, real, provided, acc"
   ]
  },
  {
   "cell_type": "code",
   "execution_count": 40,
   "metadata": {},
   "outputs": [],
   "source": [
    "hit_number, error_number, real, provided, acc = prevision()"
   ]
  },
  {
   "cell_type": "code",
   "execution_count": 41,
   "metadata": {},
   "outputs": [
    {
     "name": "stdout",
     "output_type": "stream",
     "text": [
      "Number of hits:  213 \n",
      "Number of errors:  27\n"
     ]
    }
   ],
   "source": [
    "print(\"Number of hits: \", hit_number, \"\\nNumber of errors: \" ,error_number)"
   ]
  },
  {
   "cell_type": "markdown",
   "metadata": {},
   "source": [
    "# Matrix of confusion"
   ]
  },
  {
   "cell_type": "code",
   "execution_count": 23,
   "metadata": {},
   "outputs": [
    {
     "data": {
      "image/png": "[encoded data removed]",
      "text/plain": [
       "<Figure size 432x288 with 2 Axes>"
      ]
     },
     "metadata": {
      "needs_background": "light"
     },
     "output_type": "display_data"
    }
   ],
   "source": [
    "results = {'real': real, 'provided': provided}\n",
    "results_df = pd.DataFrame.from_dict(results)\n",
    "confusion_matrix = pd.crosstab(results_df['real'], results_df['provided'], rownames=['Real'], colnames=['Provided'])\n",
    "sn.heatmap(confusion_matrix, annot=True, fmt=\"d\")\n",
    "plt.show()"
   ]
  },
  {
   "cell_type": "markdown",
   "metadata": {},
   "source": [
    "# Accuracy"
   ]
  },
  {
   "cell_type": "code",
   "execution_count": 24,
   "metadata": {},
   "outputs": [
    {
     "name": "stdout",
     "output_type": "stream",
     "text": [
      "A accuracy é: 0.9666666666666667\n"
     ]
    }
   ],
   "source": [
    "print(\"A accuracy é:\", acc)"
   ]
  },
  {
   "cell_type": "code",
   "execution_count": 25,
   "metadata": {},
   "outputs": [
    {
     "data": {
      "text/plain": [
       "array([[173,   1],\n",
       "       [  7,  59]], dtype=int64)"
      ]
     },
     "execution_count": 25,
     "metadata": {},
     "output_type": "execute_result"
    }
   ],
   "source": [
    " confusion_matrix.values"
   ]
  },
  {
   "cell_type": "code",
   "execution_count": 26,
   "metadata": {},
   "outputs": [
    {
     "data": {
      "text/plain": [
       "(173, 1, 7, 59)"
      ]
     },
     "execution_count": 26,
     "metadata": {},
     "output_type": "execute_result"
    }
   ],
   "source": [
    "tn = confusion_matrix.values[0][0]\n",
    "fp = confusion_matrix.values[0][1]\n",
    "fn = confusion_matrix.values[1][0]\n",
    "tp = confusion_matrix.values[1][1]\n",
    "tn, fp, fn, tp"
   ]
  },
  {
   "cell_type": "markdown",
   "metadata": {},
   "source": [
    "# Precision"
   ]
  },
  {
   "cell_type": "code",
   "execution_count": 29,
   "metadata": {},
   "outputs": [
    {
     "name": "stdout",
     "output_type": "stream",
     "text": [
      "The precision is: 0.9833333333333333\n"
     ]
    }
   ],
   "source": [
    "precision = tp/(tp+fp)\n",
    "print(\"The precision is:\", precision)"
   ]
  },
  {
   "cell_type": "markdown",
   "metadata": {},
   "source": [
    "# Recall"
   ]
  },
  {
   "cell_type": "code",
   "execution_count": 30,
   "metadata": {},
   "outputs": [
    {
     "name": "stdout",
     "output_type": "stream",
     "text": [
      "The recall is: 0.8939393939393939\n"
     ]
    }
   ],
   "source": [
    "recall = tp/(tp+fn)\n",
    "print(\"The recall is:\", recall)"
   ]
  },
  {
   "cell_type": "markdown",
   "metadata": {},
   "source": [
    "# F-Score"
   ]
  },
  {
   "cell_type": "code",
   "execution_count": 32,
   "metadata": {},
   "outputs": [
    {
     "name": "stdout",
     "output_type": "stream",
     "text": [
      "The F-Score is: 0.9365079365079364\n"
     ]
    }
   ],
   "source": [
    "f_score = (2*(precision*recall))/(precision+recall)\n",
    "print(\"The F-Score is:\", f_score)"
   ]
  },
  {
   "cell_type": "markdown",
   "metadata": {},
   "source": [
    "# Solution Quality\n",
    "\n",
    "The accuracy of the model trained before the set of tests is 95.83%, of which out of 240 test examples, only 10 had an incorrect output. The accuracy was 0.95, the recall was 0.90, while the F-Score (harmonic mean between accuracy and recall) was 0.93. From these results we can say that the model (under these conditions, considering these weights, the learning rate and the value of ϑ) is satisfactory, with a high accuracy and the F-Score is close to 1, since the model presented only 7 false positives and 3 false negatives."
   ]
  },
  {
   "cell_type": "markdown",
   "metadata": {},
   "source": [
    "# Perceptron solution with graphs using training and test data"
   ]
  },
  {
   "cell_type": "code",
   "execution_count": 33,
   "metadata": {},
   "outputs": [
    {
     "data": {
      "text/plain": [
       "[<matplotlib.lines.Line2D at 0x139d3658>]"
      ]
     },
     "execution_count": 33,
     "metadata": {},
     "output_type": "execute_result"
    },
    {
     "data": {
      "image/png": "[encoded data removed]",
      "text/plain": [
       "<Figure size 1152x288 with 2 Axes>"
      ]
     },
     "metadata": {
      "needs_background": "light"
     },
     "output_type": "display_data"
    }
   ],
   "source": [
    "fig, (ax1, ax2) = plt.subplots(1, 2)\n",
    "\n",
    "fig.set_figheight(4)\n",
    "fig.set_figwidth(16)\n",
    "\n",
    "fig.suptitle(\"Perceptron Solution\")\n",
    "ax1.set_title(\"Training\")\n",
    "ax2.set_title(\"Test\")\n",
    "\n",
    "point1 = [0,n.x1]\n",
    "point2 = [n.x2,0]\n",
    "x_values = [point1[0], point2[0]]\n",
    "y_values = [point1[1], point2[1]]\n",
    "\n",
    "#training\n",
    "for i in n.x_training:\n",
    "    x = i[0]\n",
    "    y = i[1]\n",
    "    yd = int(i[2])\n",
    "    if(yd >= 1):\n",
    "        ax1.scatter(x,y, color='r', s=8)\n",
    "    else:\n",
    "        ax1.scatter(x,y, color='b', s=8)\n",
    "\n",
    "#test\n",
    "for i in n.x_test:\n",
    "    x = i[0]\n",
    "    y = i[1]\n",
    "    yd = int(i[2])\n",
    "    if(yd >= 1):\n",
    "        ax2.scatter(x,y, color='r', s=8)\n",
    "    else:\n",
    "        ax2.scatter(x,y, color='b', s=8)\n",
    "\n",
    "ax1.plot(x_values, y_values)\n",
    "ax2.plot(x_values, y_values)\n"
   ]
  },
  {
   "cell_type": "code",
   "execution_count": null,
   "metadata": {},
   "outputs": [],
   "source": []
  },
  {
   "cell_type": "code",
   "execution_count": null,
   "metadata": {},
   "outputs": [],
   "source": []
  },
  {
   "cell_type": "code",
   "execution_count": null,
   "metadata": {},
   "outputs": [],
   "source": []
  },
  {
   "cell_type": "code",
   "execution_count": null,
   "metadata": {},
   "outputs": [],
   "source": []
  },
  {
   "cell_type": "code",
   "execution_count": null,
   "metadata": {},
   "outputs": [],
   "source": []
  },
  {
   "cell_type": "code",
   "execution_count": null,
   "metadata": {},
   "outputs": [],
   "source": []
  }
 ],
 "metadata": {
  "kernelspec": {
   "display_name": "Python 3",
   "language": "python",
   "name": "python3"
  },
  "language_info": {
   "codemirror_mode": {
    "name": "ipython",
    "version": 3
   },
   "file_extension": ".py",
   "mimetype": "text/x-python",
   "name": "python",
   "nbconvert_exporter": "python",
   "pygments_lexer": "ipython3",
   "version": "3.8.3"
  }
 },
 "nbformat": 4,
 "nbformat_minor": 4
}
